{
 "cells": [
  {
   "cell_type": "markdown",
   "metadata": {},
   "source": [
    "# SQL Server Containers Lab:"
   ]
  },
  {
   "cell_type": "markdown",
   "metadata": {},
   "source": [
    "Prerequisites 'OS requirements':\n",
    "\n",
    "To install Docker Engine, you need the 64-bit version of one of these Ubuntu versions:\n",
    "Ubuntu Groovy 20.10\n",
    "Ubuntu Focal 20.04 (LTS)\n",
    "Ubuntu Bionic 18.04 (LTS)\n",
    "Ubuntu Xenial 16.04 (LTS)\n",
    "Docker Engine is supported on x86_64 (or amd64), armhf, and arm64 architectures."
   ]
  },
  {
   "cell_type": "markdown",
   "metadata": {},
   "source": [
    "### NOTE: in this example we are using Ubuntu Bionic 18.04 (LTS)"
   ]
  },
  {
   "cell_type": "raw",
   "metadata": {},
   "source": [
    "Install using the repository:\n",
    "Before you install Docker Engine for the first time on a new host machine, you need to set up the Docker repository. \n",
    "Afterward, you can install and update Docker from the repository."
   ]
  },
  {
   "cell_type": "raw",
   "metadata": {},
   "source": [
    "Update the apt package index and install packages to allow apt to use a repository over HTTPS:"
   ]
  },
  {
   "cell_type": "code",
   "execution_count": null,
   "metadata": {},
   "outputs": [],
   "source": [
    "$ sudo apt-get update && sudo apt-get install \n",
    "$ sudo apt-transport-https ca-certificates curl gnupg lsb-release"
   ]
  },
  {
   "cell_type": "raw",
   "metadata": {},
   "source": [
    "Add Docker’s official GPG key:"
   ]
  },
  {
   "cell_type": "code",
   "execution_count": null,
   "metadata": {},
   "outputs": [],
   "source": [
    " $ curl -fsSL https://download.docker.com/linux/ubuntu/gpg | sudo gpg --dearmor -o /usr/share/keyrings/docker-archive-keyring.gpg"
   ]
  },
  {
   "cell_type": "raw",
   "metadata": {},
   "source": [
    "Use the following command to set up the stable repository. \n",
    "To add the nightly or test repository, add the word nightly or test (or both) after the word stable in the commands below."
   ]
  },
  {
   "cell_type": "code",
   "execution_count": null,
   "metadata": {},
   "outputs": [],
   "source": [
    "$ echo \\\n",
    "  \"deb [arch=amd64 signed-by=/usr/share/keyrings/docker-archive-keyring.gpg] https://download.docker.com/linux/ubuntu \\\n",
    "  $(lsb_release -cs) stable\" | sudo tee /etc/apt/sources.list.d/docker.list > /dev/null"
   ]
  },
  {
   "cell_type": "markdown",
   "metadata": {},
   "source": [
    "Now install Docker: "
   ]
  },
  {
   "cell_type": "code",
   "execution_count": null,
   "metadata": {},
   "outputs": [],
   "source": [
    "$ sudo apt-get update\n",
    "$ sudo apt-get install docker-ce docker-ce-cli containerd.io"
   ]
  },
  {
   "cell_type": "raw",
   "metadata": {},
   "source": [
    "# Verify that Docker Engine is installed correctly by running the hello-world image."
   ]
  },
  {
   "cell_type": "code",
   "execution_count": null,
   "metadata": {},
   "outputs": [],
   "source": [
    " $ sudo docker run hello-world"
   ]
  },
  {
   "cell_type": "raw",
   "metadata": {},
   "source": [
    "# This command downloads a test image and runs it in a container. \n",
    "When the container runs, it prints an informational message and exits"
   ]
  },
  {
   "cell_type": "markdown",
   "metadata": {},
   "source": [
    "You can start Docker and check status: "
   ]
  },
  {
   "cell_type": "code",
   "execution_count": null,
   "metadata": {},
   "outputs": [],
   "source": [
    "$ sudo systemctl start docker\n",
    "$ sudo systemctl status docker"
   ]
  },
  {
   "cell_type": "raw",
   "metadata": {},
   "source": [
    "# Pull and run the 2019 container image\n",
    "Before starting the following steps, make sure that you have selected your preferred shell (bash, PowerShell, or cmd) at the top of this article.\n",
    "Pull the SQL Server 2019 Linux container image from Microsoft Container Registry."
   ]
  },
  {
   "cell_type": "code",
   "execution_count": null,
   "metadata": {},
   "outputs": [],
   "source": [
    "$ sudo docker pull mcr.microsoft.com/mssql/server:2019-latest"
   ]
  },
  {
   "cell_type": "raw",
   "metadata": {},
   "source": [
    "To run the container image with Docker, you can use the following command from a bash shell (Linux/macOS) or elevated PowerShell command prompt."
   ]
  },
  {
   "cell_type": "code",
   "execution_count": null,
   "metadata": {},
   "outputs": [],
   "source": [
    "sudo docker run -e \"ACCEPT_EULA=Y\" -e \"SA_PASSWORD=<pasteYourPasswordHere>\" -p 1433:1433 --name mssql -h mssql -d mcr.microsoft.com/mssql/server:2019-latest"
   ]
  },
  {
   "cell_type": "markdown",
   "metadata": {},
   "source": [
    "# To view your Docker containers, use the docker ps command."
   ]
  },
  {
   "cell_type": "code",
   "execution_count": null,
   "metadata": {},
   "outputs": [],
   "source": [
    "$ sudo docker ps -a"
   ]
  },
  {
   "cell_type": "code",
   "execution_count": 7,
   "metadata": {},
   "outputs": [],
   "source": [
    "from IPython import display\n",
    "display.Image(\"./C:\\Users\\malma\\OneDrive\\Desktop\\DockerSetup\")"
   ]
  },
  {
   "cell_type": "code",
   "execution_count": 6,
   "metadata": {},
   "outputs": [],
   "source": [
    "# To access it via sqlcmd: \n",
    "docker exec -it mssql /opt/mssql-tools/bin/sqlcmd -S localhost -U sa -P 'pasteYourPasswordHere'"
   ]
  },
  {
   "cell_type": "code",
   "execution_count": null,
   "metadata": {},
   "outputs": [],
   "source": []
  }
 ],
 "metadata": {
  "kernelspec": {
   "display_name": "Python 3",
   "language": "python",
   "name": "python3"
  },
  "language_info": {
   "codemirror_mode": {
    "name": "ipython",
    "version": 3
   },
   "file_extension": ".py",
   "mimetype": "text/x-python",
   "name": "python",
   "nbconvert_exporter": "python",
   "pygments_lexer": "ipython3",
   "version": "3.8.5"
  }
 },
 "nbformat": 4,
 "nbformat_minor": 4
}
